{
 "cells": [
  {
   "cell_type": "code",
   "execution_count": 1,
   "id": "d5fdd56e-8e2c-4aeb-bf91-81a8238e2a55",
   "metadata": {},
   "outputs": [],
   "source": [
    "years = list(range(1994, 2022))"
   ]
  },
  {
   "cell_type": "code",
   "execution_count": 2,
   "id": "6d3f9a87-8b63-40ed-9fa3-08101d9fcac4",
   "metadata": {},
   "outputs": [],
   "source": [
    "url_start = \"https://www.pro-football-reference.com/draft/{}-combine.htm\""
   ]
  },
  {
   "cell_type": "code",
   "execution_count": null,
   "id": "1b59109c-4b70-4dcb-80da-4e8fe15c369c",
   "metadata": {},
   "outputs": [],
   "source": [
    "import requests\n",
    "\n",
    "for year in years:\n",
    "    url = url_start.format(year)\n",
    "    data = requests.get(url)\n",
    "    \n",
    "    with open(\"draft/{}.html\".format(year), \"w+\") as f:\n",
    "        f.write(data.text)"
   ]
  }
 ],
 "metadata": {
  "kernelspec": {
   "display_name": "Python 3",
   "language": "python",
   "name": "python3"
  },
  "language_info": {
   "codemirror_mode": {
    "name": "ipython",
    "version": 3
   },
   "file_extension": ".py",
   "mimetype": "text/x-python",
   "name": "python",
   "nbconvert_exporter": "python",
   "pygments_lexer": "ipython3",
   "version": "3.8.8"
  }
 },
 "nbformat": 4,
 "nbformat_minor": 5
}
